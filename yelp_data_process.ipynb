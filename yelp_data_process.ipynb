{
 "cells": [
  {
   "cell_type": "code",
   "execution_count": 41,
   "id": "8e2b86eb-9be5-49fd-90ff-54a2b0eee692",
   "metadata": {},
   "outputs": [],
   "source": [
    "import pandas as pd\n",
    "import numpy as np\n",
    "import seaborn as sns\n",
    "import pyarrow.parquet as pq"
   ]
  },
  {
   "cell_type": "code",
   "execution_count": 42,
   "id": "206c1211-fbb5-448f-ab4c-022f49e79270",
   "metadata": {},
   "outputs": [],
   "source": [
    "DATA_PATH = r\"C:\\Users\\zoopy\\code\\review-assist\\data\\yelp_academic_dataset_review.json\"\n",
    "WRITE_PATH = r\"C:\\Users\\zoopy\\code\\review-assist\\data\\yelp_academic_dataset_review_short.json\"\n",
    "FINAL_WRITE_PATH = r\"C:\\Users\\zoopy\\code\\review-assist\\data\\yelp_restaurant_reviews.parquet\""
   ]
  },
  {
   "cell_type": "code",
   "execution_count": 34,
   "id": "9c3d6ba1-5401-434d-8703-6559fe11a11d",
   "metadata": {},
   "outputs": [],
   "source": [
    "with open(DATA_PATH, mode='r', encoding='utf8') as in_file, \\\n",
    "    open(WRITE_PATH, mode='w', encoding='utf8') as out_file:\n",
    "        for i in range(250000):\n",
    "            out_file.write(next(in_file))"
   ]
  },
  {
   "cell_type": "code",
   "execution_count": 35,
   "id": "abe3f367-969e-41ea-9235-3cdf2d34d637",
   "metadata": {},
   "outputs": [],
   "source": [
    "df = pd.read_json(WRITE_PATH, lines=True)"
   ]
  },
  {
   "cell_type": "code",
   "execution_count": 36,
   "id": "236dc4ff-46df-4f39-9110-7ecaf144c386",
   "metadata": {},
   "outputs": [
    {
     "data": {
      "text/html": [
       "<div>\n",
       "<style scoped>\n",
       "    .dataframe tbody tr th:only-of-type {\n",
       "        vertical-align: middle;\n",
       "    }\n",
       "\n",
       "    .dataframe tbody tr th {\n",
       "        vertical-align: top;\n",
       "    }\n",
       "\n",
       "    .dataframe thead th {\n",
       "        text-align: right;\n",
       "    }\n",
       "</style>\n",
       "<table border=\"1\" class=\"dataframe\">\n",
       "  <thead>\n",
       "    <tr style=\"text-align: right;\">\n",
       "      <th></th>\n",
       "      <th>review_id</th>\n",
       "      <th>user_id</th>\n",
       "      <th>business_id</th>\n",
       "      <th>stars</th>\n",
       "      <th>useful</th>\n",
       "      <th>funny</th>\n",
       "      <th>cool</th>\n",
       "      <th>text</th>\n",
       "      <th>date</th>\n",
       "    </tr>\n",
       "  </thead>\n",
       "  <tbody>\n",
       "    <tr>\n",
       "      <th>0</th>\n",
       "      <td>KU_O5udG6zpxOg-VcAEodg</td>\n",
       "      <td>mh_-eMZ6K5RLWhZyISBhwA</td>\n",
       "      <td>XQfwVwDr-v0ZS3_CbbE5Xw</td>\n",
       "      <td>3</td>\n",
       "      <td>0</td>\n",
       "      <td>0</td>\n",
       "      <td>0</td>\n",
       "      <td>If you decide to eat here, just be aware it is...</td>\n",
       "      <td>2018-07-07 22:09:11</td>\n",
       "    </tr>\n",
       "    <tr>\n",
       "      <th>1</th>\n",
       "      <td>BiTunyQ73aT9WBnpR9DZGw</td>\n",
       "      <td>OyoGAe7OKpv6SyGZT5g77Q</td>\n",
       "      <td>7ATYjTIgM3jUlt4UM3IypQ</td>\n",
       "      <td>5</td>\n",
       "      <td>1</td>\n",
       "      <td>0</td>\n",
       "      <td>1</td>\n",
       "      <td>I've taken a lot of spin classes over the year...</td>\n",
       "      <td>2012-01-03 15:28:18</td>\n",
       "    </tr>\n",
       "    <tr>\n",
       "      <th>2</th>\n",
       "      <td>saUsX_uimxRlCVr67Z4Jig</td>\n",
       "      <td>8g_iMtfSiwikVnbP2etR0A</td>\n",
       "      <td>YjUWPpI6HXG530lwP-fb2A</td>\n",
       "      <td>3</td>\n",
       "      <td>0</td>\n",
       "      <td>0</td>\n",
       "      <td>0</td>\n",
       "      <td>Family diner. Had the buffet. Eclectic assortm...</td>\n",
       "      <td>2014-02-05 20:30:30</td>\n",
       "    </tr>\n",
       "    <tr>\n",
       "      <th>3</th>\n",
       "      <td>AqPFMleE6RsU23_auESxiA</td>\n",
       "      <td>_7bHUi9Uuf5__HHc_Q8guQ</td>\n",
       "      <td>kxX2SOes4o-D3ZQBkiMRfA</td>\n",
       "      <td>5</td>\n",
       "      <td>1</td>\n",
       "      <td>0</td>\n",
       "      <td>1</td>\n",
       "      <td>Wow!  Yummy, different,  delicious.   Our favo...</td>\n",
       "      <td>2015-01-04 00:01:03</td>\n",
       "    </tr>\n",
       "    <tr>\n",
       "      <th>4</th>\n",
       "      <td>Sx8TMOWLNuJBWer-0pcmoA</td>\n",
       "      <td>bcjbaE6dDog4jkNY91ncLQ</td>\n",
       "      <td>e4Vwtrqf-wpJfwesgvdgxQ</td>\n",
       "      <td>4</td>\n",
       "      <td>1</td>\n",
       "      <td>0</td>\n",
       "      <td>1</td>\n",
       "      <td>Cute interior and owner (?) gave us tour of up...</td>\n",
       "      <td>2017-01-14 20:54:15</td>\n",
       "    </tr>\n",
       "    <tr>\n",
       "      <th>...</th>\n",
       "      <td>...</td>\n",
       "      <td>...</td>\n",
       "      <td>...</td>\n",
       "      <td>...</td>\n",
       "      <td>...</td>\n",
       "      <td>...</td>\n",
       "      <td>...</td>\n",
       "      <td>...</td>\n",
       "      <td>...</td>\n",
       "    </tr>\n",
       "    <tr>\n",
       "      <th>249995</th>\n",
       "      <td>PxrEvgINy-nX2YPTCB8m-g</td>\n",
       "      <td>Iu1sPndxNFviDXe9FF1eDA</td>\n",
       "      <td>iWE3yZIfQunl1nXevPZrhA</td>\n",
       "      <td>3</td>\n",
       "      <td>1</td>\n",
       "      <td>0</td>\n",
       "      <td>0</td>\n",
       "      <td>Ambience GOOD\\nMusic - Odd 90's Top 40 - inclu...</td>\n",
       "      <td>2013-11-07 22:16:53</td>\n",
       "    </tr>\n",
       "    <tr>\n",
       "      <th>249996</th>\n",
       "      <td>9au4kf9xXkLc7xf9GgoR8A</td>\n",
       "      <td>R4dhP_IfMfZa9eOwzaH17A</td>\n",
       "      <td>nOyphAl0JQ8JrvNi93pclQ</td>\n",
       "      <td>5</td>\n",
       "      <td>1</td>\n",
       "      <td>0</td>\n",
       "      <td>0</td>\n",
       "      <td>I am updating my review! I have been going to ...</td>\n",
       "      <td>2014-03-11 04:30:54</td>\n",
       "    </tr>\n",
       "    <tr>\n",
       "      <th>249997</th>\n",
       "      <td>ZL5be9i-wI2acWR5F5BjGg</td>\n",
       "      <td>klm0BR4IQgU0sdO-_1UuKg</td>\n",
       "      <td>Cr-uaPrfvG7tvqzLGAGErA</td>\n",
       "      <td>5</td>\n",
       "      <td>1</td>\n",
       "      <td>0</td>\n",
       "      <td>1</td>\n",
       "      <td>I've been to a lot of sushi places, and this i...</td>\n",
       "      <td>2010-07-25 09:56:25</td>\n",
       "    </tr>\n",
       "    <tr>\n",
       "      <th>249998</th>\n",
       "      <td>c_YhfqoUOKpKBJDGH_TR9Q</td>\n",
       "      <td>9-z8DCVGGVhgwU-etc4zIA</td>\n",
       "      <td>GBTPC53ZrG1ZBY3DT8Mbcw</td>\n",
       "      <td>4</td>\n",
       "      <td>0</td>\n",
       "      <td>0</td>\n",
       "      <td>1</td>\n",
       "      <td>Prior to visiting new orleans, I asked around ...</td>\n",
       "      <td>2016-02-04 14:16:13</td>\n",
       "    </tr>\n",
       "    <tr>\n",
       "      <th>249999</th>\n",
       "      <td>TRwqSk98-MiT0jIPW0_eKg</td>\n",
       "      <td>Gu_zJwYF3dGvOgUp7E6GAA</td>\n",
       "      <td>ARZroZoAl06oPux6tas5Wg</td>\n",
       "      <td>4</td>\n",
       "      <td>5</td>\n",
       "      <td>2</td>\n",
       "      <td>4</td>\n",
       "      <td>I go here when I'm too busy to hand wash my ca...</td>\n",
       "      <td>2011-05-08 05:16:41</td>\n",
       "    </tr>\n",
       "  </tbody>\n",
       "</table>\n",
       "<p>250000 rows × 9 columns</p>\n",
       "</div>"
      ],
      "text/plain": [
       "                     review_id                 user_id  \\\n",
       "0       KU_O5udG6zpxOg-VcAEodg  mh_-eMZ6K5RLWhZyISBhwA   \n",
       "1       BiTunyQ73aT9WBnpR9DZGw  OyoGAe7OKpv6SyGZT5g77Q   \n",
       "2       saUsX_uimxRlCVr67Z4Jig  8g_iMtfSiwikVnbP2etR0A   \n",
       "3       AqPFMleE6RsU23_auESxiA  _7bHUi9Uuf5__HHc_Q8guQ   \n",
       "4       Sx8TMOWLNuJBWer-0pcmoA  bcjbaE6dDog4jkNY91ncLQ   \n",
       "...                        ...                     ...   \n",
       "249995  PxrEvgINy-nX2YPTCB8m-g  Iu1sPndxNFviDXe9FF1eDA   \n",
       "249996  9au4kf9xXkLc7xf9GgoR8A  R4dhP_IfMfZa9eOwzaH17A   \n",
       "249997  ZL5be9i-wI2acWR5F5BjGg  klm0BR4IQgU0sdO-_1UuKg   \n",
       "249998  c_YhfqoUOKpKBJDGH_TR9Q  9-z8DCVGGVhgwU-etc4zIA   \n",
       "249999  TRwqSk98-MiT0jIPW0_eKg  Gu_zJwYF3dGvOgUp7E6GAA   \n",
       "\n",
       "                   business_id  stars  useful  funny  cool  \\\n",
       "0       XQfwVwDr-v0ZS3_CbbE5Xw      3       0      0     0   \n",
       "1       7ATYjTIgM3jUlt4UM3IypQ      5       1      0     1   \n",
       "2       YjUWPpI6HXG530lwP-fb2A      3       0      0     0   \n",
       "3       kxX2SOes4o-D3ZQBkiMRfA      5       1      0     1   \n",
       "4       e4Vwtrqf-wpJfwesgvdgxQ      4       1      0     1   \n",
       "...                        ...    ...     ...    ...   ...   \n",
       "249995  iWE3yZIfQunl1nXevPZrhA      3       1      0     0   \n",
       "249996  nOyphAl0JQ8JrvNi93pclQ      5       1      0     0   \n",
       "249997  Cr-uaPrfvG7tvqzLGAGErA      5       1      0     1   \n",
       "249998  GBTPC53ZrG1ZBY3DT8Mbcw      4       0      0     1   \n",
       "249999  ARZroZoAl06oPux6tas5Wg      4       5      2     4   \n",
       "\n",
       "                                                     text                date  \n",
       "0       If you decide to eat here, just be aware it is... 2018-07-07 22:09:11  \n",
       "1       I've taken a lot of spin classes over the year... 2012-01-03 15:28:18  \n",
       "2       Family diner. Had the buffet. Eclectic assortm... 2014-02-05 20:30:30  \n",
       "3       Wow!  Yummy, different,  delicious.   Our favo... 2015-01-04 00:01:03  \n",
       "4       Cute interior and owner (?) gave us tour of up... 2017-01-14 20:54:15  \n",
       "...                                                   ...                 ...  \n",
       "249995  Ambience GOOD\\nMusic - Odd 90's Top 40 - inclu... 2013-11-07 22:16:53  \n",
       "249996  I am updating my review! I have been going to ... 2014-03-11 04:30:54  \n",
       "249997  I've been to a lot of sushi places, and this i... 2010-07-25 09:56:25  \n",
       "249998  Prior to visiting new orleans, I asked around ... 2016-02-04 14:16:13  \n",
       "249999  I go here when I'm too busy to hand wash my ca... 2011-05-08 05:16:41  \n",
       "\n",
       "[250000 rows x 9 columns]"
      ]
     },
     "execution_count": 36,
     "metadata": {},
     "output_type": "execute_result"
    }
   ],
   "source": [
    "df"
   ]
  },
  {
   "cell_type": "code",
   "execution_count": 44,
   "id": "8d2b8e38-2e72-4d9f-b168-585df58f0ace",
   "metadata": {},
   "outputs": [
    {
     "data": {
      "text/plain": [
       "5    110247\n",
       "4     62542\n",
       "3     28060\n",
       "1     26850\n",
       "2     19745\n",
       "Name: stars, dtype: int64"
      ]
     },
     "execution_count": 44,
     "metadata": {},
     "output_type": "execute_result"
    }
   ],
   "source": [
    "df[\"stars\"].value_counts()"
   ]
  },
  {
   "cell_type": "code",
   "execution_count": 45,
   "id": "2df72552-11f4-48b3-9ae3-30c489d4c966",
   "metadata": {},
   "outputs": [
    {
     "data": {
      "text/plain": [
       "review_id      247444\n",
       "user_id        247444\n",
       "business_id    247444\n",
       "stars          247444\n",
       "useful         247444\n",
       "funny          247444\n",
       "cool           247444\n",
       "text           247444\n",
       "date           247444\n",
       "text_length    247444\n",
       "dtype: int64"
      ]
     },
     "execution_count": 45,
     "metadata": {},
     "output_type": "execute_result"
    }
   ],
   "source": [
    "df.count()"
   ]
  },
  {
   "cell_type": "code",
   "execution_count": 38,
   "id": "1a668a03-e220-4257-97b8-ab62b249eb18",
   "metadata": {},
   "outputs": [
    {
     "data": {
      "text/plain": [
       "<seaborn.axisgrid.FacetGrid at 0x18fef33b9b0>"
      ]
     },
     "execution_count": 38,
     "metadata": {},
     "output_type": "execute_result"
    },
    {
     "data": {
      "image/png": "[encoded data removed]",
      "text/plain": [
       "<Figure size 500x500 with 1 Axes>"
      ]
     },
     "metadata": {},
     "output_type": "display_data"
    }
   ],
   "source": [
    "df['text_length'] = df['text'].apply(len)\n",
    "sns.displot(df,x='text_length')"
   ]
  },
  {
   "cell_type": "code",
   "execution_count": 39,
   "id": "4ae95718-ee8d-4184-9c48-79af7cbf06c2",
   "metadata": {},
   "outputs": [],
   "source": [
    "df = df.loc[df['text_length'] <= 2500]"
   ]
  },
  {
   "cell_type": "code",
   "execution_count": 40,
   "id": "04883c99-31dc-45af-8a26-2c559ee53f12",
   "metadata": {},
   "outputs": [
    {
     "data": {
      "text/plain": [
       "<seaborn.axisgrid.FacetGrid at 0x1901ac04630>"
      ]
     },
     "execution_count": 40,
     "metadata": {},
     "output_type": "execute_result"
    },
    {
     "data": {
      "image/png": "[encoded data removed]",
      "text/plain": [
       "<Figure size 500x500 with 1 Axes>"
      ]
     },
     "metadata": {},
     "output_type": "display_data"
    }
   ],
   "source": [
    "sns.displot(df,x='text_length')"
   ]
  },
  {
   "cell_type": "code",
   "execution_count": 43,
   "id": "acf098f8-2e54-4304-bf9f-8284c0a0b191",
   "metadata": {},
   "outputs": [],
   "source": [
    "df.to_parquet(FINAL_WRITE_PATH)"
   ]
  },
  {
   "cell_type": "code",
   "execution_count": null,
   "id": "32a0f728-28fc-4ff1-800b-370c6a0f39df",
   "metadata": {},
   "outputs": [],
   "source": []
  }
 ],
 "metadata": {
  "kernelspec": {
   "display_name": "py37",
   "language": "python",
   "name": "py37"
  },
  "language_info": {
   "codemirror_mode": {
    "name": "ipython",
    "version": 3
   },
   "file_extension": ".py",
   "mimetype": "text/x-python",
   "name": "python",
   "nbconvert_exporter": "python",
   "pygments_lexer": "ipython3",
   "version": "3.7.0"
  }
 },
 "nbformat": 4,
 "nbformat_minor": 5
}
