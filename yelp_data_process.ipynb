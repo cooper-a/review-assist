{
 "cells": [
  {
   "cell_type": "code",
   "execution_count": 24,
   "id": "8e2b86eb-9be5-49fd-90ff-54a2b0eee692",
   "metadata": {},
   "outputs": [],
   "source": [
    "import pandas as pd\n",
    "import numpy as np\n",
    "import seaborn as sns\n",
    "import torch\n",
    "import torch.nn.functional as F\n",
    "from torch.utils.data import TensorDataset, Dataset, DataLoader, RandomSampler, SequentialSampler\n",
    "import pyarrow.parquet as pq\n",
    "from transformers import BertTokenizerFast, BertForSequenceClassification\n",
    "from sklearn.model_selection import train_test_split\n",
    "from sklearn.metrics import accuracy_score\n",
    "from tqdm import tqdm, trange"
   ]
  },
  {
   "cell_type": "code",
   "execution_count": 116,
   "id": "206c1211-fbb5-448f-ab4c-022f49e79270",
   "metadata": {},
   "outputs": [],
   "source": [
    "DATA_PATH = r\"C:\\Users\\zoopy\\code\\review-assist\\data\\yelp_academic_dataset_review.json\"\n",
    "WRITE_PATH = r\"C:\\Users\\zoopy\\code\\review-assist\\data\\yelp_academic_dataset_review_short.json\"\n",
    "FINAL_WRITE_PATH = r\"C:\\Users\\zoopy\\code\\review-assist\\data\\yelp_restaurant_reviews.parquet\"\n",
    "FINAL_WRITE_PATH_TRAIN = r\"C:\\Users\\zoopy\\code\\review-assist\\data\\yelp_restaurant_reviews_train.parquet\"\n",
    "FINAL_WRITE_PATH_TEST = r\"C:\\Users\\zoopy\\code\\review-assist\\data\\yelp_restaurant_reviews_test.parquet\"\n",
    "ALREADY_DATA = True\n",
    "ACTUALLY_TRAIN = True"
   ]
  },
  {
   "cell_type": "code",
   "execution_count": 118,
   "id": "9c3d6ba1-5401-434d-8703-6559fe11a11d",
   "metadata": {},
   "outputs": [],
   "source": [
    "if not ALREADY_DATA:\n",
    "    with open(DATA_PATH, mode='r', encoding='utf8') as in_file, \\\n",
    "        open(WRITE_PATH, mode='w', encoding='utf8') as out_file:\n",
    "            for i in range(300000):\n",
    "                out_file.write(next(in_file))\n",
    "    df = pd.read_json(WRITE_PATH, lines=True)\n",
    "    print(df[\"stars\"].value_counts())\n",
    "    print(\"-\"*50)\n",
    "    print(df.count())\n",
    "\n",
    "    df['text_length'] = df['text'].apply(len)\n",
    "    sns.displot(df,x='text_length')\n",
    "    \n",
    "    df_train = df.loc[df['text_length'] <= 2500]\n",
    "    df_train[\"stars\"] -= 1\n",
    "    \n",
    "    sns.displot(df_train,x='text_length')\n",
    "    train, test = train_test_split(df_train, test_size=0.1)\n",
    "    train.to_parquet(FINAL_WRITE_PATH_TRAIN)\n",
    "    test.to_parquet(FINAL_WRITE_PATH_TEST)\n",
    "else:\n",
    "    df_train = pd.read_parquet(FINAL_WRITE_PATH_TRAIN)\n",
    "    df_test = pd.read_parquet(FINAL_WRITE_PATH_TEST)"
   ]
  },
  {
   "cell_type": "code",
   "execution_count": 119,
   "id": "e3cdd2b0-ec53-45a1-9cc6-7eda15639189",
   "metadata": {},
   "outputs": [],
   "source": [
    "if not ACTUALLY_TRAIN:\n",
    "    df = df-train.sample(n=5000)"
   ]
  },
  {
   "cell_type": "code",
   "execution_count": 120,
   "id": "b2dcd6fb",
   "metadata": {},
   "outputs": [],
   "source": [
    "df = df_train.sample(n=5000)"
   ]
  },
  {
   "cell_type": "code",
   "execution_count": null,
   "id": "96e21edd",
   "metadata": {},
   "outputs": [],
   "source": []
  },
  {
   "cell_type": "code",
   "execution_count": 127,
   "id": "b0eb45b3-9457-47fd-88d6-ecfdd0f4c7d4",
   "metadata": {},
   "outputs": [
    {
     "name": "stderr",
     "output_type": "stream",
     "text": [
      "100%|████████████████████████████████████████████████████████████████████████████| 5000/5000 [00:02<00:00, 2338.43it/s]\n"
     ]
    }
   ],
   "source": [
    "def preprocess(input_text, tokenizer):\n",
    "  return tokenizer.encode_plus(\n",
    "                        input_text,\n",
    "                        add_special_tokens = True,\n",
    "                        padding = \"max_length\",\n",
    "                        max_length=64,\n",
    "                        truncation=True,\n",
    "                        return_attention_mask = True,\n",
    "                        return_tensors = 'pt'\n",
    "                   )\n",
    "\n",
    "# Initialize Bert Tokenizer\n",
    "tokenizer = BertTokenizerFast.from_pretrained(\n",
    "    'bert-base-uncased',\n",
    "    do_lower_case = True)\n",
    "\n",
    "text = df.text.values\n",
    "labels = df.stars.values\n",
    "\n",
    "token_id = []\n",
    "attention_masks = []\n",
    "\n",
    "for sample in tqdm(text):\n",
    "    encoding_dict = preprocess(sample, tokenizer)\n",
    "    token_id.append(encoding_dict['input_ids']) attention_masks.append(encoding_dict['attention_mask'])\n",
    "\n",
    "token_id = torch.cat(token_id, dim = 0)\n",
    "attention_masks = torch.cat(attention_masks, dim = 0)\n",
    "labels = F.one_hot(torch.tensor(labels), num_classes=5).to(torch.float)"
   ]
  },
  {
   "cell_type": "code",
   "execution_count": 128,
   "id": "80a0d960-1e1e-4003-a4d1-3a42a679d62b",
   "metadata": {},
   "outputs": [
    {
     "name": "stderr",
     "output_type": "stream",
     "text": [
      "Some weights of the model checkpoint at bert-base-uncased were not used when initializing BertForSequenceClassification: ['cls.predictions.transform.LayerNorm.bias', 'cls.predictions.bias', 'cls.seq_relationship.bias', 'cls.predictions.transform.LayerNorm.weight', 'cls.predictions.transform.dense.bias', 'cls.predictions.transform.dense.weight', 'cls.predictions.decoder.weight', 'cls.seq_relationship.weight']\n",
      "- This IS expected if you are initializing BertForSequenceClassification from the checkpoint of a model trained on another task or with another architecture (e.g. initializing a BertForSequenceClassification model from a BertForPreTraining model).\n",
      "- This IS NOT expected if you are initializing BertForSequenceClassification from the checkpoint of a model that you expect to be exactly identical (initializing a BertForSequenceClassification model from a BertForSequenceClassification model).\n",
      "Some weights of BertForSequenceClassification were not initialized from the model checkpoint at bert-base-uncased and are newly initialized: ['classifier.bias', 'classifier.weight']\n",
      "You should probably TRAIN this model on a down-stream task to be able to use it for predictions and inference.\n"
     ]
    }
   ],
   "source": [
    "# Load the BertForSequenceClassification model\n",
    "model = BertForSequenceClassification.from_pretrained(\n",
    "    'bert-base-uncased',\n",
    "    num_labels = 5,\n",
    "    output_attentions = False,\n",
    "    output_hidden_states = False,\n",
    ")"
   ]
  },
  {
   "cell_type": "code",
   "execution_count": null,
   "id": "25290024-476f-4b21-8329-c5beb3d133b3",
   "metadata": {},
   "outputs": [],
   "source": []
  },
  {
   "cell_type": "code",
   "execution_count": 129,
   "id": "32a0f728-28fc-4ff1-800b-370c6a0f39df",
   "metadata": {},
   "outputs": [],
   "source": [
    "validation_ratio = 0.2\n",
    "batch_size = 16\n",
    "\n",
    "train_idx, val_idx = train_test_split(\n",
    "    np.arange(len(labels)),\n",
    "    test_size = 0.2,\n",
    "    shuffle = True,\n",
    "    stratify = labels)\n",
    "\n",
    "# Train and validation sets\n",
    "train_set = TensorDataset(token_id[train_idx], \n",
    "                          attention_masks[train_idx], \n",
    "                          labels[train_idx])\n",
    "\n",
    "val_set = TensorDataset(token_id[val_idx], \n",
    "                        attention_masks[val_idx], \n",
    "                        labels[val_idx])\n",
    "\n",
    "# Prepare DataLoader\n",
    "train_dataloader = DataLoader(\n",
    "            train_set,\n",
    "            sampler = RandomSampler(train_set),\n",
    "            batch_size = batch_size\n",
    "        )\n",
    "\n",
    "validation_dataloader = DataLoader(\n",
    "            val_set,\n",
    "            sampler = SequentialSampler(val_set),\n",
    "            batch_size = batch_size\n",
    "        )"
   ]
  },
  {
   "cell_type": "code",
   "execution_count": 130,
   "id": "f9bdb616-7a50-4f68-a194-02066797e550",
   "metadata": {},
   "outputs": [],
   "source": [
    "def compute_batch_accuracy(logits, labels):\n",
    "    preds = np.argmax(logits, axis = 1).flatten()\n",
    "    truth = np.argmax(labels, axis=1).flatten()\n",
    "    return accuracy_score(truth, preds)\n"
   ]
  },
  {
   "cell_type": "code",
   "execution_count": null,
   "id": "ba7a3854-bef9-4cc5-9180-a36f7bcd7a91",
   "metadata": {},
   "outputs": [
    {
     "name": "stderr",
     "output_type": "stream",
     "text": [
      "Epoch:  33%|█████████████████████████▋                                                   | 1/3 [00:31<01:02, 31.22s/it]"
     ]
    },
    {
     "name": "stdout",
     "output_type": "stream",
     "text": [
      "\n",
      "\t - Train loss: 0.1943\n",
      "\t - Validation Accuracy: 0.5685\n"
     ]
    }
   ],
   "source": [
    "# Pytorch training\n",
    "# Recommended learning rates (Adam): 5e-5, 3e-5, 2e-5. See: https://arxiv.org/pdf/1810.04805.pdf\n",
    "optimizer = torch.optim.AdamW(model.parameters(), \n",
    "                              lr = 5e-5,\n",
    "                              eps = 1e-08)\n",
    "\n",
    "# Run on GPU\n",
    "model.cuda()\n",
    "\n",
    "device = torch.device('cuda' if torch.cuda.is_available() else 'cpu')\n",
    "\n",
    "# Recommended number of epochs: 2, 3, 4. See: https://arxiv.org/pdf/1810.04805.pdf\n",
    "epochs = 3\n",
    "\n",
    "for _ in trange(epochs, desc = 'Epoch'):\n",
    "    \n",
    "    # ========== Training ==========\n",
    "    \n",
    "    # Set model to training mode\n",
    "    model.train()\n",
    "    \n",
    "    # Tracking variables\n",
    "    train_loss = 0\n",
    "    nb_train_examples, nb_train_steps = 0, 0\n",
    "\n",
    "    for step, batch in enumerate(train_dataloader):\n",
    "        batch = tuple(t.to(device) for t in batch)\n",
    "        b_input_ids, b_input_mask, b_labels = batch\n",
    "        optimizer.zero_grad()\n",
    "        # Forward pass\n",
    "        train_output = model(b_input_ids, \n",
    "                             token_type_ids = None, \n",
    "                             attention_mask = b_input_mask, \n",
    "                             labels = b_labels)\n",
    "        # Backward pass\n",
    "        train_output.loss.backward()\n",
    "        torch.nn.utils.clip_grad_norm_(model.parameters(), 1.0)\n",
    "        optimizer.step()\n",
    "        # Update tracking variables\n",
    "        tr_loss += train_output.loss.item()\n",
    "        nb_tr_examples += b_input_ids.size(0)\n",
    "        nb_tr_steps += 1\n",
    "\n",
    "    # ========== Validation ==========\n",
    "\n",
    "    # Set model to evaluation mode\n",
    "    model.eval()\n",
    "\n",
    "    # Tracking variables \n",
    "    val_accuracy = []\n",
    "    eval_loss = []\n",
    "    \n",
    "    for batch in validation_dataloader:\n",
    "        batch = tuple(t.to(device) for t in batch)\n",
    "        b_input_ids, b_input_mask, b_labels = batch\n",
    "        with torch.no_grad():\n",
    "          # Forward pass\n",
    "          eval_output = model(b_input_ids, \n",
    "                              token_type_ids = None, \n",
    "                              attention_mask = b_input_mask)\n",
    "        eval_loss.append(eval_output.loss)\n",
    "        logits = eval_output.logits.detach().cpu().numpy()\n",
    "        label_ids = b_labels.to('cpu').numpy()\n",
    "        # Calculate validation metrics\n",
    "        batch_accuracy = compute_batch_accuracy(logits, label_ids)\n",
    "        val_accuracy.append(batch_accuracy)\n",
    "    \n",
    "    print('\\n\\t - Train loss: {:.4f}'.format(tr_loss / nb_tr_steps))\n",
    "    print('\\t - Validation Accuracy: {:.4f}'.format(sum(val_accuracy)/len(val_accuracy)))"
   ]
  },
  {
   "cell_type": "code",
   "execution_count": null,
   "id": "a09596fb",
   "metadata": {},
   "outputs": [],
   "source": []
  },
  {
   "cell_type": "code",
   "execution_count": null,
   "id": "047134d8",
   "metadata": {},
   "outputs": [],
   "source": []
  },
  {
   "cell_type": "code",
   "execution_count": null,
   "id": "f825e42d",
   "metadata": {},
   "outputs": [],
   "source": [
    "\n"
   ]
  },
  {
   "cell_type": "code",
   "execution_count": null,
   "id": "5d5ddd85",
   "metadata": {},
   "outputs": [],
   "source": []
  },
  {
   "cell_type": "code",
   "execution_count": 107,
   "id": "e79523f9-1673-426a-a5ea-80b33a01edf2",
   "metadata": {},
   "outputs": [],
   "source": [
    "inputs = tokenizer(\"The waiters were really nice and great food.\", return_tensors=\"pt\")\n",
    "model.cpu()\n",
    "with torch.no_grad():\n",
    "    logits = model(**inputs).logits\n",
    "\n",
    "predicted_class_id = logits.argmax().item()"
   ]
  },
  {
   "cell_type": "code",
   "execution_count": 108,
   "id": "68c1a0b9-a468-4481-9298-117974dbfb16",
   "metadata": {},
   "outputs": [
    {
     "data": {
      "text/plain": [
       "4"
      ]
     },
     "execution_count": 108,
     "metadata": {},
     "output_type": "execute_result"
    }
   ],
   "source": [
    "predicted_class_id"
   ]
  },
  {
   "cell_type": "code",
   "execution_count": null,
   "id": "0df658e0-2192-4382-82ef-3c0b517267d3",
   "metadata": {},
   "outputs": [],
   "source": [
    "# class YelpRestaurantDataset(Dataset):\n",
    "#     def __init__(self, data: pd.DataFrame, tokenizer: BertTokenizer, max_token_length: int = 512):\n",
    "#         self.data = data\n",
    "#         self.tokenizer = tokenizer\n",
    "#         self.max_token_length = max_token_length\n",
    "    \n",
    "#     def __len__(self):\n",
    "#         return len(self.data)\n",
    "\n",
    "#     def __getitem__(self, index: int):\n",
    "#         row = self.data.iloc[index]\n",
    "#         input_text = row.text\n",
    "#         labels = row.stars\n",
    "#         encoding = tokenizer.encode_plus(\n",
    "#                             input_text,\n",
    "#                             add_special_tokens = True,\n",
    "#                             padding = \"max_length\",\n",
    "#                             max_length = self.max_token_length,\n",
    "#                             truncation = True,\n",
    "#                             return_attention_mask = True,\n",
    "#                             return_tensors = 'pt'\n",
    "#                        )\n",
    "#         print(labels)\n",
    "#         return dict(\n",
    "#             input_text = input_text,\n",
    "#             input_ids = encoding[\"input_ids\"].flatten(),\n",
    "#             attention_mask = encoding[\"attention_mask\"].flatten(),\n",
    "#             labels = torch.tensor(labels)\n",
    "#         )\n",
    "\n",
    "# dataset = YelpRestaurantDataset(df, tokenizer)\n",
    "\n",
    "# Hugging Face Training (Not used for now)\n",
    "# training_args = TrainingArguments(\n",
    "#     output_dir=\"./results\",\n",
    "#     evaluation_strategy=\"epoch\",\n",
    "#     save_strategy=\"epoch\",\n",
    "#     learning_rate=2e-5,\n",
    "#     per_device_train_batch_size=16,\n",
    "#     per_device_eval_batch_size=16,\n",
    "#     num_train_epochs=5,\n",
    "#     weight_decay=0.01,\n",
    "# )\n",
    "\n",
    "# trainer = Trainer(\n",
    "#     model,\n",
    "#     args,\n",
    "#     train_dataset=encoded_dataset[\"train\"],\n",
    "#     eval_dataset=encoded_dataset[validation_key],\n",
    "#     tokenizer=tokenizer,\n",
    "#     compute_metrics=compute_metrics\n",
    "# )"
   ]
  }
 ],
 "metadata": {
  "kernelspec": {
   "display_name": "Python 3 (ipykernel)",
   "language": "python",
   "name": "python3"
  },
  "language_info": {
   "codemirror_mode": {
    "name": "ipython",
    "version": 3
   },
   "file_extension": ".py",
   "mimetype": "text/x-python",
   "name": "python",
   "nbconvert_exporter": "python",
   "pygments_lexer": "ipython3",
   "version": "3.7.0"
  }
 },
 "nbformat": 4,
 "nbformat_minor": 5
}
