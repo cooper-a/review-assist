{
 "cells": [
  {
   "cell_type": "code",
   "execution_count": 1,
   "id": "8e2b86eb-9be5-49fd-90ff-54a2b0eee692",
   "metadata": {},
   "outputs": [],
   "source": [
    "import pandas as pd\n",
    "import numpy as np\n",
    "import seaborn as sns\n",
    "import torch\n",
    "import pyarrow.parquet as pq\n",
    "from transformers import BertTokenizer"
   ]
  },
  {
   "cell_type": "code",
   "execution_count": 2,
   "id": "206c1211-fbb5-448f-ab4c-022f49e79270",
   "metadata": {},
   "outputs": [],
   "source": [
    "DATA_PATH = r\"C:\\Users\\zoopy\\code\\review-assist\\data\\yelp_academic_dataset_review.json\"\n",
    "WRITE_PATH = r\"C:\\Users\\zoopy\\code\\review-assist\\data\\yelp_academic_dataset_review_short.json\"\n",
    "FINAL_WRITE_PATH = r\"C:\\Users\\zoopy\\code\\review-assist\\data\\yelp_restaurant_reviews.parquet\"\n",
    "ALREADY_DATA = True"
   ]
  },
  {
   "cell_type": "code",
   "execution_count": 3,
   "id": "9c3d6ba1-5401-434d-8703-6559fe11a11d",
   "metadata": {},
   "outputs": [],
   "source": [
    "if not ALREADY_DATA:\n",
    "    with open(DATA_PATH, mode='r', encoding='utf8') as in_file, \\\n",
    "        open(WRITE_PATH, mode='w', encoding='utf8') as out_file:\n",
    "            for i in range(250000):\n",
    "                out_file.write(next(in_file))\n",
    "    df = pd.read_json(WRITE_PATH, lines=True)\n",
    "    print(df[\"stars\"].value_counts())\n",
    "    print(\"-\"*50)\n",
    "    print(df.count())\n",
    "\n",
    "    df['text_length'] = df['text'].apply(len)\n",
    "    sns.displot(df,x='text_length')\n",
    "\n",
    "    df = df.loc[df['text_length'] <= 2500]\n",
    "\n",
    "    sns.displot(df,x='text_length')\n",
    "    df.to_parquet(FINAL_WRITE_PATH)\n",
    "else:\n",
    "    df = pd.read_parquet(FINAL_WRITE_PATH)"
   ]
  },
  {
   "cell_type": "code",
   "execution_count": null,
   "id": "1a668a03-e220-4257-97b8-ab62b249eb18",
   "metadata": {},
   "outputs": [],
   "source": []
  },
  {
   "cell_type": "code",
   "execution_count": null,
   "id": "4ae95718-ee8d-4184-9c48-79af7cbf06c2",
   "metadata": {},
   "outputs": [],
   "source": []
  },
  {
   "cell_type": "code",
   "execution_count": null,
   "id": "04883c99-31dc-45af-8a26-2c559ee53f12",
   "metadata": {},
   "outputs": [],
   "source": []
  },
  {
   "cell_type": "code",
   "execution_count": null,
   "id": "acf098f8-2e54-4304-bf9f-8284c0a0b191",
   "metadata": {},
   "outputs": [],
   "source": []
  },
  {
   "cell_type": "code",
   "execution_count": 4,
   "id": "32a0f728-28fc-4ff1-800b-370c6a0f39df",
   "metadata": {},
   "outputs": [],
   "source": [
    "device = torch.device('cuda' if torch.cuda.is_available() else 'cpu')"
   ]
  },
  {
   "cell_type": "code",
   "execution_count": 5,
   "id": "0598c181-e84d-4e6a-a739-fd23a6f510dd",
   "metadata": {},
   "outputs": [
    {
     "data": {
      "text/plain": [
       "True"
      ]
     },
     "execution_count": 5,
     "metadata": {},
     "output_type": "execute_result"
    }
   ],
   "source": [
    "torch.cuda.is_available()"
   ]
  },
  {
   "cell_type": "code",
   "execution_count": null,
   "id": "ba7a3854-bef9-4cc5-9180-a36f7bcd7a91",
   "metadata": {},
   "outputs": [],
   "source": []
  }
 ],
 "metadata": {
  "kernelspec": {
   "display_name": "Python 3 (ipykernel)",
   "language": "python",
   "name": "python3"
  },
  "language_info": {
   "codemirror_mode": {
    "name": "ipython",
    "version": 3
   },
   "file_extension": ".py",
   "mimetype": "text/x-python",
   "name": "python",
   "nbconvert_exporter": "python",
   "pygments_lexer": "ipython3",
   "version": "3.7.0"
  }
 },
 "nbformat": 4,
 "nbformat_minor": 5
}
